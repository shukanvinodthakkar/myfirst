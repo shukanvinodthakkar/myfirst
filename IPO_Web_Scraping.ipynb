{
  "nbformat": 4,
  "nbformat_minor": 0,
  "metadata": {
    "colab": {
      "name": "IPO_Web_Scraping.ipynb",
      "provenance": [],
      "authorship_tag": "ABX9TyOH1dfYVgzOTPSIqr9HyYYD",
      "include_colab_link": true
    },
    "kernelspec": {
      "name": "python3",
      "display_name": "Python 3"
    }
  },
  "cells": [
    {
      "cell_type": "markdown",
      "metadata": {
        "id": "view-in-github",
        "colab_type": "text"
      },
      "source": [
        "<a href=\"https://colab.research.google.com/github/shukanvinodthakkar/myfirst/blob/main/IPO_Web_Scraping.ipynb\" target=\"_parent\"><img src=\"https://colab.research.google.com/assets/colab-badge.svg\" alt=\"Open In Colab\"/></a>"
      ]
    },
    {
      "cell_type": "code",
      "metadata": {
        "id": "78H_CnGrqSph"
      },
      "source": [
        "import pandas as pd"
      ],
      "execution_count": 1,
      "outputs": []
    },
    {
      "cell_type": "code",
      "metadata": {
        "id": "GLOqIzz2JpBn"
      },
      "source": [
        "tables = pd.read_html('https://www.moneycontrol.com/ipo/ipo-historic-table')"
      ],
      "execution_count": 2,
      "outputs": []
    },
    {
      "cell_type": "code",
      "metadata": {
        "id": "WkHnJHq0KA37"
      },
      "source": [
        "df = tables[0]"
      ],
      "execution_count": 3,
      "outputs": []
    },
    {
      "cell_type": "code",
      "metadata": {
        "id": "4OqIeSHlKEtp"
      },
      "source": [
        "column = []\r\n",
        "for i in range(len(df.columns)):\r\n",
        "  column.append(df.columns[i][1])"
      ],
      "execution_count": 4,
      "outputs": []
    },
    {
      "cell_type": "code",
      "metadata": {
        "id": "NilRCxQQLuqm"
      },
      "source": [
        "df.columns = column"
      ],
      "execution_count": 5,
      "outputs": []
    },
    {
      "cell_type": "code",
      "metadata": {
        "id": "mMiYmt-OPw7W"
      },
      "source": [
        "df.dropna(inplace=True)"
      ],
      "execution_count": 6,
      "outputs": []
    },
    {
      "cell_type": "code",
      "metadata": {
        "id": "NFed3y7MMQbr"
      },
      "source": [
        "from sklearn.linear_model import LinearRegression\r\n",
        "from sklearn.model_selection import train_test_split"
      ],
      "execution_count": 7,
      "outputs": []
    },
    {
      "cell_type": "code",
      "metadata": {
        "id": "z2u5IRzvNZfc"
      },
      "source": [
        "reg = LinearRegression()"
      ],
      "execution_count": 8,
      "outputs": []
    },
    {
      "cell_type": "code",
      "metadata": {
        "id": "DqOCBhpEOAhV"
      },
      "source": [
        "x_train, x_test, y_train, y_test = train_test_split(df.iloc[:,7:8], df.iloc[:,13:],test_size=0.3,random_state=0)"
      ],
      "execution_count": 9,
      "outputs": []
    },
    {
      "cell_type": "code",
      "metadata": {
        "colab": {
          "base_uri": "https://localhost:8080/"
        },
        "id": "6_1ybJBWPD2m",
        "outputId": "55b8343d-b716-44e5-80a7-189bb0365d90"
      },
      "source": [
        "reg.fit(x_train, y_train)"
      ],
      "execution_count": 10,
      "outputs": [
        {
          "output_type": "execute_result",
          "data": {
            "text/plain": [
              "LinearRegression(copy_X=True, fit_intercept=True, n_jobs=None, normalize=False)"
            ]
          },
          "metadata": {
            "tags": []
          },
          "execution_count": 10
        }
      ]
    },
    {
      "cell_type": "code",
      "metadata": {
        "id": "G6s_jqkAPKl0"
      },
      "source": [
        "y_pred = reg.predict(x_test)"
      ],
      "execution_count": 11,
      "outputs": []
    },
    {
      "cell_type": "code",
      "metadata": {
        "id": "bysWHLx1PmB1"
      },
      "source": [
        "import matplotlib.pyplot as plt\r\n"
      ],
      "execution_count": 12,
      "outputs": []
    },
    {
      "cell_type": "code",
      "metadata": {
        "colab": {
          "base_uri": "https://localhost:8080/",
          "height": 283
        },
        "id": "4aWYwDA8QyFa",
        "outputId": "d803b9e9-992a-4de8-ee60-bb26a5a208f3"
      },
      "source": [
        "plt.scatter(x_train,y_train)\r\n",
        "plt.xlabel('Subscribption')\r\n",
        "plt.ylabel('Gain')\r\n",
        "plt.xlim([80,200])\r\n",
        "plt.ylim([-100,500])\r\n",
        "plt.show()"
      ],
      "execution_count": 28,
      "outputs": [
        {
          "output_type": "display_data",
          "data": {
            "image/png": "[encoded data removed]",
            "text/plain": [
              "<Figure size 432x288 with 1 Axes>"
            ]
          },
          "metadata": {
            "tags": [],
            "needs_background": "light"
          }
        }
      ]
    },
    {
      "cell_type": "code",
      "metadata": {
        "colab": {
          "base_uri": "https://localhost:8080/",
          "height": 279
        },
        "id": "VeN0RSRCQ8cC",
        "outputId": "1e249952-91fe-442d-ca8d-2b89d7e08489"
      },
      "source": [
        "plt.scatter(x_test,y_test)\r\n",
        "plt.xlabel('Subscribption')\r\n",
        "plt.ylabel('Gain')\r\n",
        "plt.show()"
      ],
      "execution_count": 16,
      "outputs": [
        {
          "output_type": "display_data",
          "data": {
            "image/png": "[encoded data removed]",
            "text/plain": [
              "<Figure size 432x288 with 1 Axes>"
            ]
          },
          "metadata": {
            "tags": [],
            "needs_background": "light"
          }
        }
      ]
    },
    {
      "cell_type": "code",
      "metadata": {
        "colab": {
          "base_uri": "https://localhost:8080/",
          "height": 279
        },
        "id": "-3LXnAFQRx6q",
        "outputId": "4c8498de-6372-4db9-df53-c3661d458de6"
      },
      "source": [
        "plt.scatter(x_test,y_pred)\r\n",
        "plt.xlabel('Subscribption')\r\n",
        "plt.ylabel('Gain')\r\n",
        "plt.show()"
      ],
      "execution_count": 17,
      "outputs": [
        {
          "output_type": "display_data",
          "data": {
            "image/png": "[encoded data removed]",
            "text/plain": [
              "<Figure size 432x288 with 1 Axes>"
            ]
          },
          "metadata": {
            "tags": [],
            "needs_background": "light"
          }
        }
      ]
    }
  ]
}