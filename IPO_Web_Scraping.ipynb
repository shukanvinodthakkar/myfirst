{
  "nbformat": 4,
  "nbformat_minor": 0,
  "metadata": {
    "colab": {
      "name": "IPO_Web_Scraping.ipynb",
      "provenance": [],
      "authorship_tag": "ABX9TyN9M5OFf9RrdHye1xywZc1L",
      "include_colab_link": true
    },
    "kernelspec": {
      "name": "python3",
      "display_name": "Python 3"
    }
  },
  "cells": [
    {
      "cell_type": "markdown",
      "metadata": {
        "id": "view-in-github",
        "colab_type": "text"
      },
      "source": [
        "<a href=\"https://colab.research.google.com/github/shukanvinodthakkar/myfirst/blob/main/IPO_Web_Scraping.ipynb\" target=\"_parent\"><img src=\"https://colab.research.google.com/assets/colab-badge.svg\" alt=\"Open In Colab\"/></a>"
      ]
    },
    {
      "cell_type": "code",
      "metadata": {
        "id": "78H_CnGrqSph"
      },
      "source": [
        "import pandas as pd\r\n",
        "from bs4 import  BeautifulSoup\r\n",
        "import requests"
      ],
      "execution_count": 10,
      "outputs": []
    },
    {
      "cell_type": "code",
      "metadata": {
        "id": "2m-giVRnqtNB"
      },
      "source": [
        "r = requests.get('https://www.chittorgarh.com/ipo/ipo_list.asp?a=mainline')"
      ],
      "execution_count": 11,
      "outputs": []
    },
    {
      "cell_type": "code",
      "metadata": {
        "id": "G3QDQM0zqanP"
      },
      "source": [
        "soup = BeautifulSoup(r.text,'html.parser')"
      ],
      "execution_count": 13,
      "outputs": []
    },
    {
      "cell_type": "code",
      "metadata": {
        "id": "IBE8PYyuwUuk"
      },
      "source": [
        "table = soup.find('table')"
      ],
      "execution_count": 17,
      "outputs": []
    },
    {
      "cell_type": "code",
      "metadata": {
        "id": "B_PySypkxKN_"
      },
      "source": [
        "table_rows = table.find_all('tr')"
      ],
      "execution_count": 20,
      "outputs": []
    },
    {
      "cell_type": "code",
      "metadata": {
        "id": "3NjfrMDzzfZd"
      },
      "source": [
        "company_links = []\r\n",
        "company_names = []\r\n",
        "for tr in table_rows[1:]:\r\n",
        "  td = tr.find('td')\r\n",
        "  company_links.append(td.find('a')['href'])\r\n",
        "  company_names.append(td.find('a').contents[0])"
      ],
      "execution_count": 32,
      "outputs": []
    }
  ]
}